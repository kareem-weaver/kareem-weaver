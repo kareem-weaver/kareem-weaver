{
 "cells": [
  {
   "cell_type": "code",
   "execution_count": 434,
   "id": "0d633e78-9a8f-4d8b-b9d4-5b864ea39e22",
   "metadata": {},
   "outputs": [],
   "source": [
    "from polygon import RESTClient\n",
    "import datetime as dt\n",
    "import pandas as pd\n",
    "import plotly.graph_objects as go\n",
    "from plotly.offline import plot\n",
    "\n",
    "from polygonAPIkey import polygonAPIkey\n",
    "\n",
    "from polygon.rest import models\n",
    "from polygon.rest.models import Sort\n",
    "# from typing import cast\n",
    "from urllib3 import HTTPResponse"
   ]
  },
  {
   "cell_type": "code",
   "execution_count": 440,
   "id": "e9a8457e-e148-48f4-bf74-5f3a0977bd88",
   "metadata": {},
   "outputs": [],
   "source": [
    "client = RESTClient('p2z0yx8IL11EkTO4ko24xYp5ss40JMks') # api_key is used"
   ]
  },
  {
   "cell_type": "code",
   "execution_count": 442,
   "id": "6d7f2443-6f6c-40c2-b0cf-72b575699faf",
   "metadata": {},
   "outputs": [
    {
     "ename": "MaxRetryError",
     "evalue": "HTTPSConnectionPool(host='api.polygon.io', port=443): Max retries exceeded with url: /v3/reference/options/contracts?cursor=YXA9JTdCJTIySUQlMjIlM0ElMjIxNDE1MjczNDQ4NTI4MTg0MjYwNSUyMiUyQyUyMlN0YXJ0RGF0ZVV0YyUyMiUzQSU3QiUyMlRpbWUlMjIlM0ElMjIyMDIyLTEyLTAxVDAwJTNBMDAlM0EwMFolMjIlMkMlMjJWYWxpZCUyMiUzQXRydWUlN0QlMkMlMjJFbmREYXRlVXRjJTIyJTNBJTdCJTIyVGltZSUyMiUzQSUyMjAwMDEtMDEtMDFUMDAlM0EwMCUzQTAwWiUyMiUyQyUyMlZhbGlkJTIyJTNBZmFsc2UlN0QlMkMlMjJ1bmRlcmx5aW5nX3RpY2tlciUyMiUzQSUyMlNQWSUyMiUyQyUyMnRpY2tlciUyMiUzQSUyMk8lM0FTUFkyNTAzMjFDMDAyNzUwMDAlMjIlMkMlMjJleHBpcmF0aW9uX2RhdGUlMjIlM0ElMjIyMDI1LTAzLTIxVDAwJTNBMDAlM0EwMFolMjIlMkMlMjJzdHJpa2VfcHJpY2UlMjIlM0EyNzUlMkMlMjJjZmklMjIlM0ElMjJPQ0FTUFMlMjIlMkMlMjJjb250cmFjdF90eXBlJTIyJTNBJTIyY2FsbCUyMiUyQyUyMmV4ZXJjaXNlX3N0eWxlJTIyJTNBJTIyYW1lcmljYW4lMjIlMkMlMjJwcmltYXJ5X2V4Y2hhbmdlJTIyJTNBJTdCJTIyU3RyaW5nJTIyJTNBJTIyQkFUTyUyMiUyQyUyMlZhbGlkJTIyJTNBdHJ1ZSU3RCUyQyUyMnNoYXJlc19wZXJfY29udHJhY3QlMjIlM0ExMDAlMkMlMjJhZGRpdGlvbmFsX3VuZGVybHlpbmdzJTIyJTNBJTIyJTVCJTVEJTIyJTdEJmFzPSZsaW1pdD0xMDAwJnNvcnQ9dGlja2VyJnVuZGVybHlpbmdfdGlja2VyPVNQWQ (Caused by ResponseError('too many 429 error responses'))",
     "output_type": "error",
     "traceback": [
      "\u001b[1;31m---------------------------------------------------------------------------\u001b[0m",
      "\u001b[1;31mMaxRetryError\u001b[0m                             Traceback (most recent call last)",
      "Cell \u001b[1;32mIn[442], line 4\u001b[0m\n\u001b[0;32m      1\u001b[0m contractNames \u001b[38;5;241m=\u001b[39m []\n\u001b[0;32m      2\u001b[0m \u001b[38;5;66;03m# polygonAPIkey\u001b[39;00m\n\u001b[1;32m----> 4\u001b[0m \u001b[38;5;28;01mfor\u001b[39;00m contract \u001b[38;5;129;01min\u001b[39;00m client\u001b[38;5;241m.\u001b[39mlist_options_contracts(underlying_ticker \u001b[38;5;241m=\u001b[39m \u001b[38;5;124m'\u001b[39m\u001b[38;5;124mSPY\u001b[39m\u001b[38;5;124m'\u001b[39m, limit\u001b[38;5;241m=\u001b[39m\u001b[38;5;241m1000\u001b[39m):\n\u001b[0;32m      5\u001b[0m     contractNames\u001b[38;5;241m.\u001b[39mappend(contract)\n\u001b[0;32m      7\u001b[0m \u001b[38;5;66;03m# get options ticker\u001b[39;00m\n",
      "File \u001b[1;32m~\\anaconda3\\Lib\\site-packages\\polygon\\rest\\base.py:211\u001b[0m, in \u001b[0;36mBaseClient._paginate_iter\u001b[1;34m(self, path, params, deserializer, result_key, options)\u001b[0m\n\u001b[0;32m    202\u001b[0m \u001b[38;5;28;01mdef\u001b[39;00m \u001b[38;5;21m_paginate_iter\u001b[39m(\n\u001b[0;32m    203\u001b[0m     \u001b[38;5;28mself\u001b[39m,\n\u001b[0;32m    204\u001b[0m     path: \u001b[38;5;28mstr\u001b[39m,\n\u001b[1;32m   (...)\u001b[0m\n\u001b[0;32m    208\u001b[0m     options: Optional[RequestOptionBuilder] \u001b[38;5;241m=\u001b[39m \u001b[38;5;28;01mNone\u001b[39;00m,\n\u001b[0;32m    209\u001b[0m ):\n\u001b[0;32m    210\u001b[0m     \u001b[38;5;28;01mwhile\u001b[39;00m \u001b[38;5;28;01mTrue\u001b[39;00m:\n\u001b[1;32m--> 211\u001b[0m         resp \u001b[38;5;241m=\u001b[39m \u001b[38;5;28mself\u001b[39m\u001b[38;5;241m.\u001b[39m_get(\n\u001b[0;32m    212\u001b[0m             path\u001b[38;5;241m=\u001b[39mpath,\n\u001b[0;32m    213\u001b[0m             params\u001b[38;5;241m=\u001b[39mparams,\n\u001b[0;32m    214\u001b[0m             deserializer\u001b[38;5;241m=\u001b[39mdeserializer,\n\u001b[0;32m    215\u001b[0m             result_key\u001b[38;5;241m=\u001b[39mresult_key,\n\u001b[0;32m    216\u001b[0m             raw\u001b[38;5;241m=\u001b[39m\u001b[38;5;28;01mTrue\u001b[39;00m,\n\u001b[0;32m    217\u001b[0m             options\u001b[38;5;241m=\u001b[39moptions,\n\u001b[0;32m    218\u001b[0m         )\n\u001b[0;32m    220\u001b[0m         \u001b[38;5;28;01mtry\u001b[39;00m:\n\u001b[0;32m    221\u001b[0m             decoded \u001b[38;5;241m=\u001b[39m \u001b[38;5;28mself\u001b[39m\u001b[38;5;241m.\u001b[39m_decode(resp)\n",
      "File \u001b[1;32m~\\anaconda3\\Lib\\site-packages\\polygon\\rest\\base.py:117\u001b[0m, in \u001b[0;36mBaseClient._get\u001b[1;34m(self, path, params, result_key, deserializer, raw, options)\u001b[0m\n\u001b[0;32m    114\u001b[0m     \u001b[38;5;28mprint\u001b[39m(\u001b[38;5;124mf\u001b[39m\u001b[38;5;124m\"\u001b[39m\u001b[38;5;124mRequest URL: \u001b[39m\u001b[38;5;132;01m{\u001b[39;00mfull_url\u001b[38;5;132;01m}\u001b[39;00m\u001b[38;5;124m\"\u001b[39m)\n\u001b[0;32m    115\u001b[0m     \u001b[38;5;28mprint\u001b[39m(\u001b[38;5;124mf\u001b[39m\u001b[38;5;124m\"\u001b[39m\u001b[38;5;124mRequest Headers: \u001b[39m\u001b[38;5;132;01m{\u001b[39;00mprint_headers\u001b[38;5;132;01m}\u001b[39;00m\u001b[38;5;124m\"\u001b[39m)\n\u001b[1;32m--> 117\u001b[0m resp \u001b[38;5;241m=\u001b[39m \u001b[38;5;28mself\u001b[39m\u001b[38;5;241m.\u001b[39mclient\u001b[38;5;241m.\u001b[39mrequest(\n\u001b[0;32m    118\u001b[0m     \u001b[38;5;124m\"\u001b[39m\u001b[38;5;124mGET\u001b[39m\u001b[38;5;124m\"\u001b[39m,\n\u001b[0;32m    119\u001b[0m     \u001b[38;5;28mself\u001b[39m\u001b[38;5;241m.\u001b[39mBASE \u001b[38;5;241m+\u001b[39m path,\n\u001b[0;32m    120\u001b[0m     fields\u001b[38;5;241m=\u001b[39mparams,\n\u001b[0;32m    121\u001b[0m     headers\u001b[38;5;241m=\u001b[39mheaders,\n\u001b[0;32m    122\u001b[0m )\n\u001b[0;32m    124\u001b[0m \u001b[38;5;28;01mif\u001b[39;00m \u001b[38;5;28mself\u001b[39m\u001b[38;5;241m.\u001b[39mtrace:\n\u001b[0;32m    125\u001b[0m     resp_headers_dict \u001b[38;5;241m=\u001b[39m \u001b[38;5;28mdict\u001b[39m(resp\u001b[38;5;241m.\u001b[39mheaders\u001b[38;5;241m.\u001b[39mitems())\n",
      "File \u001b[1;32m~\\anaconda3\\Lib\\site-packages\\urllib3\\request.py:77\u001b[0m, in \u001b[0;36mRequestMethods.request\u001b[1;34m(self, method, url, fields, headers, **urlopen_kw)\u001b[0m\n\u001b[0;32m     74\u001b[0m urlopen_kw[\u001b[38;5;124m\"\u001b[39m\u001b[38;5;124mrequest_url\u001b[39m\u001b[38;5;124m\"\u001b[39m] \u001b[38;5;241m=\u001b[39m url\n\u001b[0;32m     76\u001b[0m \u001b[38;5;28;01mif\u001b[39;00m method \u001b[38;5;129;01min\u001b[39;00m \u001b[38;5;28mself\u001b[39m\u001b[38;5;241m.\u001b[39m_encode_url_methods:\n\u001b[1;32m---> 77\u001b[0m     \u001b[38;5;28;01mreturn\u001b[39;00m \u001b[38;5;28mself\u001b[39m\u001b[38;5;241m.\u001b[39mrequest_encode_url(\n\u001b[0;32m     78\u001b[0m         method, url, fields\u001b[38;5;241m=\u001b[39mfields, headers\u001b[38;5;241m=\u001b[39mheaders, \u001b[38;5;241m*\u001b[39m\u001b[38;5;241m*\u001b[39murlopen_kw\n\u001b[0;32m     79\u001b[0m     )\n\u001b[0;32m     80\u001b[0m \u001b[38;5;28;01melse\u001b[39;00m:\n\u001b[0;32m     81\u001b[0m     \u001b[38;5;28;01mreturn\u001b[39;00m \u001b[38;5;28mself\u001b[39m\u001b[38;5;241m.\u001b[39mrequest_encode_body(\n\u001b[0;32m     82\u001b[0m         method, url, fields\u001b[38;5;241m=\u001b[39mfields, headers\u001b[38;5;241m=\u001b[39mheaders, \u001b[38;5;241m*\u001b[39m\u001b[38;5;241m*\u001b[39murlopen_kw\n\u001b[0;32m     83\u001b[0m     )\n",
      "File \u001b[1;32m~\\anaconda3\\Lib\\site-packages\\urllib3\\request.py:99\u001b[0m, in \u001b[0;36mRequestMethods.request_encode_url\u001b[1;34m(self, method, url, fields, headers, **urlopen_kw)\u001b[0m\n\u001b[0;32m     96\u001b[0m \u001b[38;5;28;01mif\u001b[39;00m fields:\n\u001b[0;32m     97\u001b[0m     url \u001b[38;5;241m+\u001b[39m\u001b[38;5;241m=\u001b[39m \u001b[38;5;124m\"\u001b[39m\u001b[38;5;124m?\u001b[39m\u001b[38;5;124m\"\u001b[39m \u001b[38;5;241m+\u001b[39m urlencode(fields)\n\u001b[1;32m---> 99\u001b[0m \u001b[38;5;28;01mreturn\u001b[39;00m \u001b[38;5;28mself\u001b[39m\u001b[38;5;241m.\u001b[39murlopen(method, url, \u001b[38;5;241m*\u001b[39m\u001b[38;5;241m*\u001b[39mextra_kw)\n",
      "File \u001b[1;32m~\\anaconda3\\Lib\\site-packages\\urllib3\\poolmanager.py:376\u001b[0m, in \u001b[0;36mPoolManager.urlopen\u001b[1;34m(self, method, url, redirect, **kw)\u001b[0m\n\u001b[0;32m    374\u001b[0m     response \u001b[38;5;241m=\u001b[39m conn\u001b[38;5;241m.\u001b[39murlopen(method, url, \u001b[38;5;241m*\u001b[39m\u001b[38;5;241m*\u001b[39mkw)\n\u001b[0;32m    375\u001b[0m \u001b[38;5;28;01melse\u001b[39;00m:\n\u001b[1;32m--> 376\u001b[0m     response \u001b[38;5;241m=\u001b[39m conn\u001b[38;5;241m.\u001b[39murlopen(method, u\u001b[38;5;241m.\u001b[39mrequest_uri, \u001b[38;5;241m*\u001b[39m\u001b[38;5;241m*\u001b[39mkw)\n\u001b[0;32m    378\u001b[0m redirect_location \u001b[38;5;241m=\u001b[39m redirect \u001b[38;5;129;01mand\u001b[39;00m response\u001b[38;5;241m.\u001b[39mget_redirect_location()\n\u001b[0;32m    379\u001b[0m \u001b[38;5;28;01mif\u001b[39;00m \u001b[38;5;129;01mnot\u001b[39;00m redirect_location:\n",
      "File \u001b[1;32m~\\anaconda3\\Lib\\site-packages\\urllib3\\connectionpool.py:896\u001b[0m, in \u001b[0;36mHTTPConnectionPool.urlopen\u001b[1;34m(self, method, url, body, headers, retries, redirect, assert_same_host, timeout, pool_timeout, release_conn, chunked, body_pos, **response_kw)\u001b[0m\n\u001b[0;32m    894\u001b[0m     retries\u001b[38;5;241m.\u001b[39msleep(response)\n\u001b[0;32m    895\u001b[0m     log\u001b[38;5;241m.\u001b[39mdebug(\u001b[38;5;124m\"\u001b[39m\u001b[38;5;124mRetry: \u001b[39m\u001b[38;5;132;01m%s\u001b[39;00m\u001b[38;5;124m\"\u001b[39m, url)\n\u001b[1;32m--> 896\u001b[0m     \u001b[38;5;28;01mreturn\u001b[39;00m \u001b[38;5;28mself\u001b[39m\u001b[38;5;241m.\u001b[39murlopen(\n\u001b[0;32m    897\u001b[0m         method,\n\u001b[0;32m    898\u001b[0m         url,\n\u001b[0;32m    899\u001b[0m         body,\n\u001b[0;32m    900\u001b[0m         headers,\n\u001b[0;32m    901\u001b[0m         retries\u001b[38;5;241m=\u001b[39mretries,\n\u001b[0;32m    902\u001b[0m         redirect\u001b[38;5;241m=\u001b[39mredirect,\n\u001b[0;32m    903\u001b[0m         assert_same_host\u001b[38;5;241m=\u001b[39massert_same_host,\n\u001b[0;32m    904\u001b[0m         timeout\u001b[38;5;241m=\u001b[39mtimeout,\n\u001b[0;32m    905\u001b[0m         pool_timeout\u001b[38;5;241m=\u001b[39mpool_timeout,\n\u001b[0;32m    906\u001b[0m         release_conn\u001b[38;5;241m=\u001b[39mrelease_conn,\n\u001b[0;32m    907\u001b[0m         chunked\u001b[38;5;241m=\u001b[39mchunked,\n\u001b[0;32m    908\u001b[0m         body_pos\u001b[38;5;241m=\u001b[39mbody_pos,\n\u001b[0;32m    909\u001b[0m         \u001b[38;5;241m*\u001b[39m\u001b[38;5;241m*\u001b[39mresponse_kw\n\u001b[0;32m    910\u001b[0m     )\n\u001b[0;32m    912\u001b[0m \u001b[38;5;28;01mreturn\u001b[39;00m response\n",
      "File \u001b[1;32m~\\anaconda3\\Lib\\site-packages\\urllib3\\connectionpool.py:896\u001b[0m, in \u001b[0;36mHTTPConnectionPool.urlopen\u001b[1;34m(self, method, url, body, headers, retries, redirect, assert_same_host, timeout, pool_timeout, release_conn, chunked, body_pos, **response_kw)\u001b[0m\n\u001b[0;32m    894\u001b[0m     retries\u001b[38;5;241m.\u001b[39msleep(response)\n\u001b[0;32m    895\u001b[0m     log\u001b[38;5;241m.\u001b[39mdebug(\u001b[38;5;124m\"\u001b[39m\u001b[38;5;124mRetry: \u001b[39m\u001b[38;5;132;01m%s\u001b[39;00m\u001b[38;5;124m\"\u001b[39m, url)\n\u001b[1;32m--> 896\u001b[0m     \u001b[38;5;28;01mreturn\u001b[39;00m \u001b[38;5;28mself\u001b[39m\u001b[38;5;241m.\u001b[39murlopen(\n\u001b[0;32m    897\u001b[0m         method,\n\u001b[0;32m    898\u001b[0m         url,\n\u001b[0;32m    899\u001b[0m         body,\n\u001b[0;32m    900\u001b[0m         headers,\n\u001b[0;32m    901\u001b[0m         retries\u001b[38;5;241m=\u001b[39mretries,\n\u001b[0;32m    902\u001b[0m         redirect\u001b[38;5;241m=\u001b[39mredirect,\n\u001b[0;32m    903\u001b[0m         assert_same_host\u001b[38;5;241m=\u001b[39massert_same_host,\n\u001b[0;32m    904\u001b[0m         timeout\u001b[38;5;241m=\u001b[39mtimeout,\n\u001b[0;32m    905\u001b[0m         pool_timeout\u001b[38;5;241m=\u001b[39mpool_timeout,\n\u001b[0;32m    906\u001b[0m         release_conn\u001b[38;5;241m=\u001b[39mrelease_conn,\n\u001b[0;32m    907\u001b[0m         chunked\u001b[38;5;241m=\u001b[39mchunked,\n\u001b[0;32m    908\u001b[0m         body_pos\u001b[38;5;241m=\u001b[39mbody_pos,\n\u001b[0;32m    909\u001b[0m         \u001b[38;5;241m*\u001b[39m\u001b[38;5;241m*\u001b[39mresponse_kw\n\u001b[0;32m    910\u001b[0m     )\n\u001b[0;32m    912\u001b[0m \u001b[38;5;28;01mreturn\u001b[39;00m response\n",
      "File \u001b[1;32m~\\anaconda3\\Lib\\site-packages\\urllib3\\connectionpool.py:896\u001b[0m, in \u001b[0;36mHTTPConnectionPool.urlopen\u001b[1;34m(self, method, url, body, headers, retries, redirect, assert_same_host, timeout, pool_timeout, release_conn, chunked, body_pos, **response_kw)\u001b[0m\n\u001b[0;32m    894\u001b[0m     retries\u001b[38;5;241m.\u001b[39msleep(response)\n\u001b[0;32m    895\u001b[0m     log\u001b[38;5;241m.\u001b[39mdebug(\u001b[38;5;124m\"\u001b[39m\u001b[38;5;124mRetry: \u001b[39m\u001b[38;5;132;01m%s\u001b[39;00m\u001b[38;5;124m\"\u001b[39m, url)\n\u001b[1;32m--> 896\u001b[0m     \u001b[38;5;28;01mreturn\u001b[39;00m \u001b[38;5;28mself\u001b[39m\u001b[38;5;241m.\u001b[39murlopen(\n\u001b[0;32m    897\u001b[0m         method,\n\u001b[0;32m    898\u001b[0m         url,\n\u001b[0;32m    899\u001b[0m         body,\n\u001b[0;32m    900\u001b[0m         headers,\n\u001b[0;32m    901\u001b[0m         retries\u001b[38;5;241m=\u001b[39mretries,\n\u001b[0;32m    902\u001b[0m         redirect\u001b[38;5;241m=\u001b[39mredirect,\n\u001b[0;32m    903\u001b[0m         assert_same_host\u001b[38;5;241m=\u001b[39massert_same_host,\n\u001b[0;32m    904\u001b[0m         timeout\u001b[38;5;241m=\u001b[39mtimeout,\n\u001b[0;32m    905\u001b[0m         pool_timeout\u001b[38;5;241m=\u001b[39mpool_timeout,\n\u001b[0;32m    906\u001b[0m         release_conn\u001b[38;5;241m=\u001b[39mrelease_conn,\n\u001b[0;32m    907\u001b[0m         chunked\u001b[38;5;241m=\u001b[39mchunked,\n\u001b[0;32m    908\u001b[0m         body_pos\u001b[38;5;241m=\u001b[39mbody_pos,\n\u001b[0;32m    909\u001b[0m         \u001b[38;5;241m*\u001b[39m\u001b[38;5;241m*\u001b[39mresponse_kw\n\u001b[0;32m    910\u001b[0m     )\n\u001b[0;32m    912\u001b[0m \u001b[38;5;28;01mreturn\u001b[39;00m response\n",
      "File \u001b[1;32m~\\anaconda3\\Lib\\site-packages\\urllib3\\connectionpool.py:886\u001b[0m, in \u001b[0;36mHTTPConnectionPool.urlopen\u001b[1;34m(self, method, url, body, headers, retries, redirect, assert_same_host, timeout, pool_timeout, release_conn, chunked, body_pos, **response_kw)\u001b[0m\n\u001b[0;32m    884\u001b[0m \u001b[38;5;28;01mif\u001b[39;00m retries\u001b[38;5;241m.\u001b[39mis_retry(method, response\u001b[38;5;241m.\u001b[39mstatus, has_retry_after):\n\u001b[0;32m    885\u001b[0m     \u001b[38;5;28;01mtry\u001b[39;00m:\n\u001b[1;32m--> 886\u001b[0m         retries \u001b[38;5;241m=\u001b[39m retries\u001b[38;5;241m.\u001b[39mincrement(method, url, response\u001b[38;5;241m=\u001b[39mresponse, _pool\u001b[38;5;241m=\u001b[39m\u001b[38;5;28mself\u001b[39m)\n\u001b[0;32m    887\u001b[0m     \u001b[38;5;28;01mexcept\u001b[39;00m MaxRetryError:\n\u001b[0;32m    888\u001b[0m         \u001b[38;5;28;01mif\u001b[39;00m retries\u001b[38;5;241m.\u001b[39mraise_on_status:\n",
      "File \u001b[1;32m~\\anaconda3\\Lib\\site-packages\\urllib3\\util\\retry.py:594\u001b[0m, in \u001b[0;36mRetry.increment\u001b[1;34m(self, method, url, response, error, _pool, _stacktrace)\u001b[0m\n\u001b[0;32m    583\u001b[0m new_retry \u001b[38;5;241m=\u001b[39m \u001b[38;5;28mself\u001b[39m\u001b[38;5;241m.\u001b[39mnew(\n\u001b[0;32m    584\u001b[0m     total\u001b[38;5;241m=\u001b[39mtotal,\n\u001b[0;32m    585\u001b[0m     connect\u001b[38;5;241m=\u001b[39mconnect,\n\u001b[1;32m   (...)\u001b[0m\n\u001b[0;32m    590\u001b[0m     history\u001b[38;5;241m=\u001b[39mhistory,\n\u001b[0;32m    591\u001b[0m )\n\u001b[0;32m    593\u001b[0m \u001b[38;5;28;01mif\u001b[39;00m new_retry\u001b[38;5;241m.\u001b[39mis_exhausted():\n\u001b[1;32m--> 594\u001b[0m     \u001b[38;5;28;01mraise\u001b[39;00m MaxRetryError(_pool, url, error \u001b[38;5;129;01mor\u001b[39;00m ResponseError(cause))\n\u001b[0;32m    596\u001b[0m log\u001b[38;5;241m.\u001b[39mdebug(\u001b[38;5;124m\"\u001b[39m\u001b[38;5;124mIncremented Retry for (url=\u001b[39m\u001b[38;5;124m'\u001b[39m\u001b[38;5;132;01m%s\u001b[39;00m\u001b[38;5;124m'\u001b[39m\u001b[38;5;124m): \u001b[39m\u001b[38;5;132;01m%r\u001b[39;00m\u001b[38;5;124m\"\u001b[39m, url, new_retry)\n\u001b[0;32m    598\u001b[0m \u001b[38;5;28;01mreturn\u001b[39;00m new_retry\n",
      "\u001b[1;31mMaxRetryError\u001b[0m: HTTPSConnectionPool(host='api.polygon.io', port=443): Max retries exceeded with url: /v3/reference/options/contracts?cursor=YXA9JTdCJTIySUQlMjIlM0ElMjIxNDE1MjczNDQ4NTI4MTg0MjYwNSUyMiUyQyUyMlN0YXJ0RGF0ZVV0YyUyMiUzQSU3QiUyMlRpbWUlMjIlM0ElMjIyMDIyLTEyLTAxVDAwJTNBMDAlM0EwMFolMjIlMkMlMjJWYWxpZCUyMiUzQXRydWUlN0QlMkMlMjJFbmREYXRlVXRjJTIyJTNBJTdCJTIyVGltZSUyMiUzQSUyMjAwMDEtMDEtMDFUMDAlM0EwMCUzQTAwWiUyMiUyQyUyMlZhbGlkJTIyJTNBZmFsc2UlN0QlMkMlMjJ1bmRlcmx5aW5nX3RpY2tlciUyMiUzQSUyMlNQWSUyMiUyQyUyMnRpY2tlciUyMiUzQSUyMk8lM0FTUFkyNTAzMjFDMDAyNzUwMDAlMjIlMkMlMjJleHBpcmF0aW9uX2RhdGUlMjIlM0ElMjIyMDI1LTAzLTIxVDAwJTNBMDAlM0EwMFolMjIlMkMlMjJzdHJpa2VfcHJpY2UlMjIlM0EyNzUlMkMlMjJjZmklMjIlM0ElMjJPQ0FTUFMlMjIlMkMlMjJjb250cmFjdF90eXBlJTIyJTNBJTIyY2FsbCUyMiUyQyUyMmV4ZXJjaXNlX3N0eWxlJTIyJTNBJTIyYW1lcmljYW4lMjIlMkMlMjJwcmltYXJ5X2V4Y2hhbmdlJTIyJTNBJTdCJTIyU3RyaW5nJTIyJTNBJTIyQkFUTyUyMiUyQyUyMlZhbGlkJTIyJTNBdHJ1ZSU3RCUyQyUyMnNoYXJlc19wZXJfY29udHJhY3QlMjIlM0ExMDAlMkMlMjJhZGRpdGlvbmFsX3VuZGVybHlpbmdzJTIyJTNBJTIyJTVCJTVEJTIyJTdEJmFzPSZsaW1pdD0xMDAwJnNvcnQ9dGlja2VyJnVuZGVybHlpbmdfdGlja2VyPVNQWQ (Caused by ResponseError('too many 429 error responses'))"
     ]
    }
   ],
   "source": [
    "contractNames = []\n",
    "# polygonAPIkey\n",
    "\n",
    "for contract in client.list_options_contracts(underlying_ticker = 'SPY', limit=1000):\n",
    "    contractNames.append(contract)\n",
    "\n",
    "# get options ticker\n",
    "optionsTicker = contractData.ticker\n",
    "\n",
    "#daily options price bars\n",
    "dailyOptionData = client.get_aggs(ticker = optionsTicker,\n",
    "                                  multiplier = 1,\n",
    "                                  timespan = 'day',\n",
    "                                  from_ = '1900-02-01',\n",
    "                                  to = '2100-01-01')\n",
    "\n",
    "#15 min  options price bars\n",
    "fifteenMinOptionData = client.get_aggs(ticker = optionsTicker,\n",
    "                                  multiplier = 15,\n",
    "                                  timespan = 'minute',\n",
    "                                  from_ = '1900-02-01',\n",
    "                                  to = '2100-01-01')\n",
    "\n",
    "#3 min  options price bars\n",
    "threeMinOptionData = client.get_aggs(ticker = optionsTicker,\n",
    "                                  multiplier = 3,\n",
    "                                  timespan = 'minute',\n",
    "                                  from_ = '1900-02-01',\n",
    "                                  to = '2100-01-01')\n",
    "\n",
    "optionDataFrame = pd.DataFrame(dailyOptionData)\n",
    "optionDataFrame"
   ]
  },
  {
   "cell_type": "code",
   "execution_count": null,
   "id": "871fe196-7ae2-4716-8dab-10be27b8f5e4",
   "metadata": {},
   "outputs": [],
   "source": []
  },
  {
   "cell_type": "code",
   "execution_count": null,
   "id": "ef9461bc-aac3-41ab-a149-83c4b4f163b8",
   "metadata": {},
   "outputs": [],
   "source": []
  },
  {
   "cell_type": "code",
   "execution_count": null,
   "id": "bffad78f-2ce0-4cc0-a7c7-0cfdd6b65a98",
   "metadata": {},
   "outputs": [],
   "source": []
  },
  {
   "cell_type": "code",
   "execution_count": null,
   "id": "5e4de71c-08de-47e4-bd24-cae18d74b543",
   "metadata": {},
   "outputs": [],
   "source": []
  },
  {
   "cell_type": "code",
   "execution_count": null,
   "id": "2b2cef1a-71de-4e74-9c29-3d7d5b53f24c",
   "metadata": {},
   "outputs": [],
   "source": []
  },
  {
   "cell_type": "code",
   "execution_count": null,
   "id": "727a2e43-1328-4880-a1e5-ea7159c9990c",
   "metadata": {},
   "outputs": [],
   "source": []
  },
  {
   "cell_type": "code",
   "execution_count": null,
   "id": "0584075b-77ed-49ac-9f64-f1c495f074e3",
   "metadata": {},
   "outputs": [],
   "source": []
  }
 ],
 "metadata": {
  "kernelspec": {
   "display_name": "Python 3 (ipykernel)",
   "language": "python",
   "name": "python3"
  },
  "language_info": {
   "codemirror_mode": {
    "name": "ipython",
    "version": 3
   },
   "file_extension": ".py",
   "mimetype": "text/x-python",
   "name": "python",
   "nbconvert_exporter": "python",
   "pygments_lexer": "ipython3",
   "version": "3.12.3"
  }
 },
 "nbformat": 4,
 "nbformat_minor": 5
}
