{
 "cells": [
  {
   "cell_type": "code",
   "id": "initial_id",
   "metadata": {
    "collapsed": true,
    "jupyter": {
     "is_executing": true
    }
   },
   "source": [
    "import yfinance as yf\n",
    "import numpy as np\n",
    "import pandas as pd\n",
    "from matplotlib import pyplot as plt"
   ],
   "outputs": [],
   "execution_count": null
  },
  {
   "metadata": {},
   "cell_type": "code",
   "outputs": [],
   "execution_count": null,
   "source": [
    "# Load stock data using yfinance\n",
    "spy = yf.Ticker(\"spy\")\n",
    "data = pd.DataFrame(spy.history(period=\"max\", interval=\"1D\"))\n",
    "data = data[[\"Close\", \"Volume\"]]\n",
    "m, n = data.shap"
   ],
   "id": "9f0cecf6671053f9"
  },
  {
   "metadata": {},
   "cell_type": "code",
   "outputs": [],
   "execution_count": null,
   "source": [
    "# Calculate MACD and Signal Line\n",
    "short_window = 12  # 12-period EMA\n",
    "long_window = 26   # 26-period EMA\n",
    "signal_window = 9  # 9-period EMA\n",
    "\n",
    "# Calculate MACD and Signal Line\n",
    "macd = data['Close'].ewm(span=short_window, adjust=False).mean() - data['Close'].ewm(span=long_window, adjust=False).mean()\n",
    "signal = macd.ewm(span=signal_window, adjust=False).mean()\n",
    "\n",
    "# Initialize tracking variables\n",
    "isBullish_list = []\n",
    "bullish_counter = 0\n",
    "bearish_counter = 0\n",
    "\n",
    "# Loop through the data to check for MACD crossover persistence\n",
    "for i in range(1, len(macd)):\n",
    "    if macd.iloc[i] > signal.iloc[i] and macd.iloc[i-1] > signal.iloc[i-1]:  # Golden Cross\n",
    "        bullish_counter += 1\n",
    "        bearish_counter = 0\n",
    "        if bullish_counter >= 4:\n",
    "            isBullish_list.append(1)  # Bullish\n",
    "        else:\n",
    "            isBullish_list.append(2)  # Neutral (before 2 consecutive days)\n",
    "    elif macd.iloc[i] < signal.iloc[i] and macd.iloc[i-1] < signal.iloc[i-1]:  # Death Cross\n",
    "        bearish_counter += 1\n",
    "        bullish_counter = 0\n",
    "        if bearish_counter >= 4:\n",
    "            isBullish_list.append(-1)  # Bearish\n",
    "        else:\n",
    "            isBullish_list.append(2)  # Neutral (before 2 consecutive days)\n",
    "    else:\n",
    "        # Reset counters when there's no persistence of bullish/bearish signal\n",
    "        bullish_counter = 0\n",
    "        bearish_counter = 0\n",
    "        isBullish_list.append(2)  # Neutral state\n",
    "\n",
    "# Adjust length of isBullish_list for the first element\n",
    "isBullish_list = [2] + isBullish_list  # Add 2 for the first row since we start from the second row\n",
    "\n",
    "# Add the isBullish column to the dataset\n",
    "data['MACD_Status'] = isBullish_list\n",
    "\n",
    "# Check if the market is in an uptrend for atleast 5 days (TBI)\n",
    "data['200_MA'] = EMA_200 = data['Close'].rolling(window=200).mean()# Preview the dataset\n",
    "print(data)"
   ],
   "id": "bee19e1481692b73"
  },
  {
   "metadata": {},
   "cell_type": "code",
   "outputs": [],
   "execution_count": null,
   "source": "",
   "id": "def05e1256aaf606"
  }
 ],
 "metadata": {
  "kernelspec": {
   "display_name": "Python 3",
   "language": "python",
   "name": "python3"
  },
  "language_info": {
   "codemirror_mode": {
    "name": "ipython",
    "version": 2
   },
   "file_extension": ".py",
   "mimetype": "text/x-python",
   "name": "python",
   "nbconvert_exporter": "python",
   "pygments_lexer": "ipython2",
   "version": "2.7.6"
  }
 },
 "nbformat": 4,
 "nbformat_minor": 5
}
