{
 "cells": [
  {
   "cell_type": "code",
   "execution_count": 122,
   "id": "6c0a6bc2",
   "metadata": {},
   "outputs": [],
   "source": [
    "import yfinance as yf\n",
    "import numpy as np\n",
    "import pandas as pd\n",
    "from matplotlib import pyplot as plt"
   ]
  },
  {
   "cell_type": "code",
   "execution_count": 123,
   "id": "439199fb",
   "metadata": {},
   "outputs": [],
   "source": [
    "# Load stock data using yfinance\n",
    "spy = yf.Ticker(\"spy\")\n",
    "data = pd.DataFrame(spy.history(period=\"max\", interval=\"1D\"))\n",
    "data = data[[\"Close\", \"Volume\"]]\n",
    "m, n = data.shape"
   ]
  },
  {
   "cell_type": "code",
   "execution_count": 129,
   "id": "e8638234",
   "metadata": {
    "scrolled": true
   },
   "outputs": [
    {
     "name": "stdout",
     "output_type": "stream",
     "text": [
      "                                Close    Volume  MACD_Status      200_MA\n",
      "Date                                                                    \n",
      "1993-01-29 00:00:00-05:00   24.684103   1003200            2         NaN\n",
      "1993-02-01 00:00:00-05:00   24.859657    480500            2         NaN\n",
      "1993-02-02 00:00:00-05:00   24.912352    201300            2         NaN\n",
      "1993-02-03 00:00:00-05:00   25.175680    529400            2         NaN\n",
      "1993-02-04 00:00:00-05:00   25.281010    531500            2         NaN\n",
      "...                               ...       ...          ...         ...\n",
      "2024-09-10 00:00:00-04:00  548.789978  36394600           -1  512.513175\n",
      "2024-09-11 00:00:00-04:00  554.419983  75248600           -1  513.033644\n",
      "2024-09-12 00:00:00-04:00  559.090027  51892700           -1  513.576078\n",
      "2024-09-13 00:00:00-04:00  562.010010  39256500            2  514.137170\n",
      "2024-09-16 00:00:00-04:00  562.840027  34378923            2  514.700185\n",
      "\n",
      "[7964 rows x 4 columns]\n"
     ]
    }
   ],
   "source": [
    "# Calculate MACD and Signal Line\n",
    "short_window = 12  # 12-period EMA\n",
    "long_window = 26   # 26-period EMA\n",
    "signal_window = 9  # 9-period EMA\n",
    "\n",
    "# Calculate MACD and Signal Line\n",
    "macd = data['Close'].ewm(span=short_window, adjust=False).mean() - data['Close'].ewm(span=long_window, adjust=False).mean()\n",
    "signal = macd.ewm(span=signal_window, adjust=False).mean()\n",
    "\n",
    "# Initialize tracking variables\n",
    "isBullish_list = []\n",
    "bullish_counter = 0\n",
    "bearish_counter = 0\n",
    "\n",
    "# Loop through the data to check for MACD crossover persistence\n",
    "for i in range(1, len(macd)):\n",
    "    if macd.iloc[i] > signal.iloc[i] and macd.iloc[i-1] > signal.iloc[i-1]:  # Golden Cross\n",
    "        bullish_counter += 1\n",
    "        bearish_counter = 0\n",
    "        if bullish_counter >= 4:\n",
    "            isBullish_list.append(1)  # Bullish\n",
    "        else:\n",
    "            isBullish_list.append(2)  # Neutral (before 2 consecutive days)\n",
    "    elif macd.iloc[i] < signal.iloc[i] and macd.iloc[i-1] < signal.iloc[i-1]:  # Death Cross\n",
    "        bearish_counter += 1\n",
    "        bullish_counter = 0\n",
    "        if bearish_counter >= 4:\n",
    "            isBullish_list.append(-1)  # Bearish\n",
    "        else:\n",
    "            isBullish_list.append(2)  # Neutral (before 2 consecutive days)\n",
    "    else:\n",
    "        # Reset counters when there's no persistence of bullish/bearish signal\n",
    "        bullish_counter = 0\n",
    "        bearish_counter = 0\n",
    "        isBullish_list.append(2)  # Neutral state\n",
    "\n",
    "# Adjust length of isBullish_list for the first element\n",
    "isBullish_list = [2] + isBullish_list  # Add 2 for the first row since we start from the second row\n",
    "\n",
    "# Add the isBullish column to the dataset\n",
    "data['MACD_Status'] = isBullish_list\n",
    "\n",
    "# Check if the market is in an uptrend for atleast 5 days (TBI)\n",
    "data['200_MA'] = EMA_200 = data['Close'].rolling(window=200).mean()# Preview the dataset\n",
    "print(data)\n",
    "\n"
   ]
  },
  {
   "cell_type": "code",
   "execution_count": 125,
   "id": "dca974b4",
   "metadata": {},
   "outputs": [
    {
     "ename": "ValueError",
     "evalue": "cannot insert index, already exists",
     "output_type": "error",
     "traceback": [
      "\u001b[1;31m---------------------------------------------------------------------------\u001b[0m",
      "\u001b[1;31mValueError\u001b[0m                                Traceback (most recent call last)",
      "\u001b[1;32m~\\AppData\\Local\\Temp\\ipykernel_1800\\1472967231.py\u001b[0m in \u001b[0;36m<module>\u001b[1;34m\u001b[0m\n\u001b[0;32m      3\u001b[0m \u001b[1;33m\u001b[0m\u001b[0m\n\u001b[0;32m      4\u001b[0m \u001b[1;33m\u001b[0m\u001b[0m\n\u001b[1;32m----> 5\u001b[1;33m \u001b[0mdf\u001b[0m\u001b[1;33m.\u001b[0m\u001b[0minsert\u001b[0m\u001b[1;33m(\u001b[0m\u001b[1;36m0\u001b[0m\u001b[1;33m,\u001b[0m \u001b[1;34m'index'\u001b[0m\u001b[1;33m,\u001b[0m \u001b[0mlist\u001b[0m\u001b[1;33m(\u001b[0m\u001b[0mrange\u001b[0m\u001b[1;33m(\u001b[0m\u001b[1;36m0\u001b[0m\u001b[1;33m,\u001b[0m \u001b[0mm\u001b[0m\u001b[1;33m)\u001b[0m\u001b[1;33m)\u001b[0m\u001b[1;33m)\u001b[0m\u001b[1;33m\u001b[0m\u001b[1;33m\u001b[0m\u001b[0m\n\u001b[0m\u001b[0;32m      6\u001b[0m \u001b[1;33m\u001b[0m\u001b[0m\n\u001b[0;32m      7\u001b[0m \u001b[0mX_train\u001b[0m \u001b[1;33m=\u001b[0m \u001b[0mdf\u001b[0m\u001b[1;33m[\u001b[0m\u001b[1;33m[\u001b[0m\u001b[1;34m\"index\"\u001b[0m\u001b[1;33m,\u001b[0m \u001b[1;34m\"Close\"\u001b[0m\u001b[1;33m,\u001b[0m \u001b[1;34m\"Volume\"\u001b[0m\u001b[1;33m]\u001b[0m\u001b[1;33m]\u001b[0m\u001b[1;33m\u001b[0m\u001b[1;33m\u001b[0m\u001b[0m\n",
      "\u001b[1;32m~\\anaconda3\\lib\\site-packages\\pandas\\core\\frame.py\u001b[0m in \u001b[0;36minsert\u001b[1;34m(self, loc, column, value, allow_duplicates)\u001b[0m\n\u001b[0;32m   4441\u001b[0m         \u001b[1;32mif\u001b[0m \u001b[1;32mnot\u001b[0m \u001b[0mallow_duplicates\u001b[0m \u001b[1;32mand\u001b[0m \u001b[0mcolumn\u001b[0m \u001b[1;32min\u001b[0m \u001b[0mself\u001b[0m\u001b[1;33m.\u001b[0m\u001b[0mcolumns\u001b[0m\u001b[1;33m:\u001b[0m\u001b[1;33m\u001b[0m\u001b[1;33m\u001b[0m\u001b[0m\n\u001b[0;32m   4442\u001b[0m             \u001b[1;31m# Should this be a different kind of error??\u001b[0m\u001b[1;33m\u001b[0m\u001b[1;33m\u001b[0m\u001b[0m\n\u001b[1;32m-> 4443\u001b[1;33m             \u001b[1;32mraise\u001b[0m \u001b[0mValueError\u001b[0m\u001b[1;33m(\u001b[0m\u001b[1;34mf\"cannot insert {column}, already exists\"\u001b[0m\u001b[1;33m)\u001b[0m\u001b[1;33m\u001b[0m\u001b[1;33m\u001b[0m\u001b[0m\n\u001b[0m\u001b[0;32m   4444\u001b[0m         \u001b[1;32mif\u001b[0m \u001b[1;32mnot\u001b[0m \u001b[0misinstance\u001b[0m\u001b[1;33m(\u001b[0m\u001b[0mloc\u001b[0m\u001b[1;33m,\u001b[0m \u001b[0mint\u001b[0m\u001b[1;33m)\u001b[0m\u001b[1;33m:\u001b[0m\u001b[1;33m\u001b[0m\u001b[1;33m\u001b[0m\u001b[0m\n\u001b[0;32m   4445\u001b[0m             \u001b[1;32mraise\u001b[0m \u001b[0mTypeError\u001b[0m\u001b[1;33m(\u001b[0m\u001b[1;34m\"loc must be int\"\u001b[0m\u001b[1;33m)\u001b[0m\u001b[1;33m\u001b[0m\u001b[1;33m\u001b[0m\u001b[0m\n",
      "\u001b[1;31mValueError\u001b[0m: cannot insert index, already exists"
     ]
    }
   ],
   "source": [
    "#remove big tech earnings from data?\n",
    "\n",
    "\n",
    "\n",
    "df.insert(0, 'index', list(range(0, m)))\n",
    "\n",
    "X_train = df[[\"index\", \"Close\", \"Volume\"]]\n",
    "\n",
    "df[\"Target Column\"] = df[\"Close\"].shift(-1)\n",
    "Y_train = df[[\"Target Column\", \"index\"]]\n",
    "\n",
    "print(X_train)\n",
    "print(Y_train)"
   ]
  },
  {
   "cell_type": "code",
   "execution_count": null,
   "id": "187b5279",
   "metadata": {},
   "outputs": [],
   "source": []
  },
  {
   "cell_type": "code",
   "execution_count": null,
   "id": "acf95d06",
   "metadata": {},
   "outputs": [],
   "source": []
  },
  {
   "cell_type": "code",
   "execution_count": null,
   "id": "22084414",
   "metadata": {},
   "outputs": [],
   "source": []
  }
 ],
 "metadata": {
  "kernelspec": {
   "display_name": "Python 3 (ipykernel)",
   "language": "python",
   "name": "python3"
  },
  "language_info": {
   "codemirror_mode": {
    "name": "ipython",
    "version": 3
   },
   "file_extension": ".py",
   "mimetype": "text/x-python",
   "name": "python",
   "nbconvert_exporter": "python",
   "pygments_lexer": "ipython3",
   "version": "3.9.13"
  }
 },
 "nbformat": 4,
 "nbformat_minor": 5
}
