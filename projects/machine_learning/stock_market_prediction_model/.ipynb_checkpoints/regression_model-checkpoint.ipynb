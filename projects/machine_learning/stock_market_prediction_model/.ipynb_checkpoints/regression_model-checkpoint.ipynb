{
 "cells": [
  {
   "cell_type": "code",
   "execution_count": 7,
   "id": "initial_id",
   "metadata": {
    "jupyter": {
     "is_executing": true
    }
   },
   "outputs": [],
   "source": [
    "import yfinance as yf\n",
    "import numpy as np\n",
    "import pandas as pd\n",
    "from matplotlib import pyplot as plt"
   ]
  },
  {
   "cell_type": "code",
   "execution_count": 8,
   "id": "9f0cecf6671053f9",
   "metadata": {},
   "outputs": [],
   "source": [
    "# Load stock data using yfinance\n",
    "spy = yf.Ticker(\"spy\")\n",
    "data = pd.DataFrame(spy.history(period=\"max\", interval=\"1D\"))\n",
    "data = data[[\"Close\", \"Volume\"]]\n",
    "m, n = data.shape"
   ]
  },
  {
   "cell_type": "code",
   "execution_count": 9,
   "id": "bee19e1481692b73",
   "metadata": {},
   "outputs": [
    {
     "name": "stdout",
     "output_type": "stream",
     "text": [
      "                                Close    Volume  MACD_Status      200_MA\n",
      "Date                                                                    \n",
      "1993-01-29 00:00:00-05:00   24.608622   1003200            2         NaN\n",
      "1993-02-01 00:00:00-05:00   24.783651    480500            2         NaN\n",
      "1993-02-02 00:00:00-05:00   24.836151    201300            2         NaN\n",
      "1993-02-03 00:00:00-05:00   25.098684    529400            2         NaN\n",
      "1993-02-04 00:00:00-05:00   25.203705    531500            2         NaN\n",
      "...                               ...       ...          ...         ...\n",
      "2024-11-08 00:00:00-05:00  598.190002  46444900            2  534.627877\n",
      "2024-11-11 00:00:00-05:00  598.760010  37586800            2  535.207393\n",
      "2024-11-12 00:00:00-05:00  596.900024  43006100            2  535.758490\n",
      "2024-11-13 00:00:00-05:00  597.190002  47388600            1  536.312919\n",
      "2024-11-14 00:00:00-05:00  593.349976  38463148            1  536.887824\n",
      "\n",
      "[8007 rows x 4 columns]\n"
     ]
    }
   ],
   "source": [
    "# Calculate MACD and Signal Line\n",
    "short_window = 12  # 12-period EMA\n",
    "long_window = 26   # 26-period EMA\n",
    "signal_window = 9  # 9-period EMA\n",
    "\n",
    "# Calculate MACD and Signal Line\n",
    "macd = data['Close'].ewm(span=short_window, adjust=False).mean() - data['Close'].ewm(span=long_window, adjust=False).mean()\n",
    "signal = macd.ewm(span=signal_window, adjust=False).mean()\n",
    "\n",
    "# Initialize tracking variables\n",
    "isBullish_list = []\n",
    "bullish_counter = 0\n",
    "bearish_counter = 0\n",
    "\n",
    "# Loop through the data to check for MACD crossover persistence\n",
    "for i in range(1, len(macd)):\n",
    "    if macd.iloc[i] > signal.iloc[i] and macd.iloc[i-1] > signal.iloc[i-1]:  # Golden Cross\n",
    "        bullish_counter += 1\n",
    "        bearish_counter = 0\n",
    "        if bullish_counter >= 4:\n",
    "            isBullish_list.append(1)  # Bullish\n",
    "        else:\n",
    "            isBullish_list.append(2)  # Neutral (before 2 consecutive days)\n",
    "    elif macd.iloc[i] < signal.iloc[i] and macd.iloc[i-1] < signal.iloc[i-1]:  # Death Cross\n",
    "        bearish_counter += 1\n",
    "        bullish_counter = 0\n",
    "        if bearish_counter >= 4:\n",
    "            isBullish_list.append(-1)  # Bearish\n",
    "        else:\n",
    "            isBullish_list.append(2)  # Neutral (before 2 consecutive days)\n",
    "    else:\n",
    "        # Reset counters when there's no persistence of bullish/bearish signal\n",
    "        bullish_counter = 0\n",
    "        bearish_counter = 0\n",
    "        isBullish_list.append(2)  # Neutral state\n",
    "\n",
    "# Adjust length of isBullish_list for the first element\n",
    "isBullish_list = [2] + isBullish_list  # Add 2 for the first row since we start from the second row\n",
    "\n",
    "# Add the isBullish column to the dataset\n",
    "data['MACD_Status'] = isBullish_list\n",
    "\n",
    "# Check if the market is in an uptrend for atleast 5 days (TBI)\n",
    "data['200_MA'] = EMA_200 = data['Close'].rolling(window=200).mean()# Preview the dataset\n",
    "print(data)"
   ]
  },
  {
   "cell_type": "code",
   "execution_count": null,
   "id": "def05e1256aaf606",
   "metadata": {},
   "outputs": [],
   "source": [
    "# Calculate RSI\n"
   ]
  }
 ],
 "metadata": {
  "kernelspec": {
   "display_name": "Python 3 (ipykernel)",
   "language": "python",
   "name": "python3"
  },
  "language_info": {
   "codemirror_mode": {
    "name": "ipython",
    "version": 3
   },
   "file_extension": ".py",
   "mimetype": "text/x-python",
   "name": "python",
   "nbconvert_exporter": "python",
   "pygments_lexer": "ipython3",
   "version": "3.9.13"
  }
 },
 "nbformat": 4,
 "nbformat_minor": 5
}
