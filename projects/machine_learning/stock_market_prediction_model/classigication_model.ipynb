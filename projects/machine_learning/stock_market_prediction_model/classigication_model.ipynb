{
 "cells": [
  {
   "cell_type": "code",
   "execution_count": 1,
   "id": "4bbe66be",
   "metadata": {},
   "outputs": [],
   "source": [
    "import yfinance as yf\n",
    "import numpy as np\n",
    "import pandas as pd\n",
    "from matplotlib import pyplot as plt"
   ]
  },
  {
   "cell_type": "code",
   "execution_count": 2,
   "id": "c1f4fccf",
   "metadata": {},
   "outputs": [],
   "source": [
    "# Load stock data using yfinance\n",
    "spy = yf.Ticker(\"spy\")\n",
    "data = pd.DataFrame(spy.history(period=\"max\", interval=\"1D\"))\n",
    "data = data[[\"Close\", \"Volume\"]]\n",
    "m, n = data.shape"
   ]
  },
  {
   "cell_type": "code",
   "execution_count": 3,
   "id": "416956a0",
   "metadata": {},
   "outputs": [
    {
     "name": "stdout",
     "output_type": "stream",
     "text": [
      "                                Close    Volume  MACD_Status      200_MA\n",
      "Date                                                                    \n",
      "1993-01-29 00:00:00-05:00   24.608618   1003200            2         NaN\n",
      "1993-02-01 00:00:00-05:00   24.783651    480500            2         NaN\n",
      "1993-02-02 00:00:00-05:00   24.836155    201300            2         NaN\n",
      "1993-02-03 00:00:00-05:00   25.098692    529400            2         NaN\n",
      "1993-02-04 00:00:00-05:00   25.203707    531500            2         NaN\n",
      "...                               ...       ...          ...         ...\n",
      "2024-10-16 00:00:00-04:00  582.299988  30725400            1  525.343311\n",
      "2024-10-17 00:00:00-04:00  582.349976  34393700            1  525.913888\n",
      "2024-10-18 00:00:00-04:00  584.590027  37416800            1  526.514785\n",
      "2024-10-21 00:00:00-04:00  583.630005  36389900            1  527.118361\n",
      "2024-10-22 00:00:00-04:00  581.994995   8127718            1  527.710592\n",
      "\n",
      "[7990 rows x 4 columns]\n"
     ]
    }
   ],
   "source": [
    "# Calculate MACD and Signal Line\n",
    "short_window = 12  # 12-period EMA\n",
    "long_window = 26   # 26-period EMA\n",
    "signal_window = 9  # 9-period EMA\n",
    "\n",
    "# Calculate MACD and Signal Line\n",
    "macd = data['Close'].ewm(span=short_window, adjust=False).mean() - data['Close'].ewm(span=long_window, adjust=False).mean()\n",
    "signal = macd.ewm(span=signal_window, adjust=False).mean()\n",
    "\n",
    "# Initialize tracking variables\n",
    "isBullish_list = []\n",
    "bullish_counter = 0\n",
    "bearish_counter = 0\n",
    "\n",
    "# Loop through the data to check for MACD crossover persistence\n",
    "for i in range(1, len(macd)):\n",
    "    if macd.iloc[i] > signal.iloc[i] and macd.iloc[i-1] > signal.iloc[i-1]:  # Golden Cross\n",
    "        bullish_counter += 1\n",
    "        bearish_counter = 0\n",
    "        if bullish_counter >= 4:\n",
    "            isBullish_list.append(1)  # Bullish\n",
    "        else:\n",
    "            isBullish_list.append(2)  # Neutral (before 2 consecutive days)\n",
    "    elif macd.iloc[i] < signal.iloc[i] and macd.iloc[i-1] < signal.iloc[i-1]:  # Death Cross\n",
    "        bearish_counter += 1\n",
    "        bullish_counter = 0\n",
    "        if bearish_counter >= 4:\n",
    "            isBullish_list.append(-1)  # Bearish\n",
    "        else:\n",
    "            isBullish_list.append(2)  # Neutral (before 2 consecutive days)\n",
    "    else:\n",
    "        # Reset counters when there's no persistence of bullish/bearish signal\n",
    "        bullish_counter = 0\n",
    "        bearish_counter = 0\n",
    "        isBullish_list.append(2)  # Neutral state\n",
    "\n",
    "# Adjust length of isBullish_list for the first element\n",
    "isBullish_list = [2] + isBullish_list  # Add 2 for the first row since we start from the second row\n",
    "\n",
    "# Add the isBullish column to the dataset\n",
    "data['MACD_Status'] = isBullish_list\n",
    "\n",
    "# Check if the market is in an uptrend for atleast 5 days (TBI)\n",
    "data['200_MA'] = EMA_200 = data['Close'].rolling(window=200).mean()# Preview the dataset\n",
    "print(data)"
   ]
  },
  {
   "cell_type": "code",
   "execution_count": 4,
   "id": "6cc5b079",
   "metadata": {},
   "outputs": [
    {
     "ename": "NameError",
     "evalue": "name 'df' is not defined",
     "output_type": "error",
     "traceback": [
      "\u001b[1;31m---------------------------------------------------------------------------\u001b[0m",
      "\u001b[1;31mNameError\u001b[0m                                 Traceback (most recent call last)",
      "\u001b[1;32m~\\AppData\\Local\\Temp\\ipykernel_13204\\1472967231.py\u001b[0m in \u001b[0;36m<module>\u001b[1;34m\u001b[0m\n\u001b[0;32m      3\u001b[0m \u001b[1;33m\u001b[0m\u001b[0m\n\u001b[0;32m      4\u001b[0m \u001b[1;33m\u001b[0m\u001b[0m\n\u001b[1;32m----> 5\u001b[1;33m \u001b[0mdf\u001b[0m\u001b[1;33m.\u001b[0m\u001b[0minsert\u001b[0m\u001b[1;33m(\u001b[0m\u001b[1;36m0\u001b[0m\u001b[1;33m,\u001b[0m \u001b[1;34m'index'\u001b[0m\u001b[1;33m,\u001b[0m \u001b[0mlist\u001b[0m\u001b[1;33m(\u001b[0m\u001b[0mrange\u001b[0m\u001b[1;33m(\u001b[0m\u001b[1;36m0\u001b[0m\u001b[1;33m,\u001b[0m \u001b[0mm\u001b[0m\u001b[1;33m)\u001b[0m\u001b[1;33m)\u001b[0m\u001b[1;33m)\u001b[0m\u001b[1;33m\u001b[0m\u001b[1;33m\u001b[0m\u001b[0m\n\u001b[0m\u001b[0;32m      6\u001b[0m \u001b[1;33m\u001b[0m\u001b[0m\n\u001b[0;32m      7\u001b[0m \u001b[0mX_train\u001b[0m \u001b[1;33m=\u001b[0m \u001b[0mdf\u001b[0m\u001b[1;33m[\u001b[0m\u001b[1;33m[\u001b[0m\u001b[1;34m\"index\"\u001b[0m\u001b[1;33m,\u001b[0m \u001b[1;34m\"Close\"\u001b[0m\u001b[1;33m,\u001b[0m \u001b[1;34m\"Volume\"\u001b[0m\u001b[1;33m]\u001b[0m\u001b[1;33m]\u001b[0m\u001b[1;33m\u001b[0m\u001b[1;33m\u001b[0m\u001b[0m\n",
      "\u001b[1;31mNameError\u001b[0m: name 'df' is not defined"
     ]
    }
   ],
   "source": [
    "#remove big tech earnings from data?\n",
    "\n",
    "\n",
    "\n",
    "df.insert(0, 'index', list(range(0, m)))\n",
    "\n",
    "X_train = df[[\"index\", \"Close\", \"Volume\"]]\n",
    "\n",
    "df[\"Target Column\"] = df[\"Close\"].shift(-1)\n",
    "Y_train = df[[\"Target Column\", \"index\"]]\n",
    "\n",
    "print(X_train)\n",
    "print(Y_train)"
   ]
  },
  {
   "cell_type": "code",
   "execution_count": null,
   "id": "095cdc03",
   "metadata": {},
   "outputs": [],
   "source": []
  },
  {
   "cell_type": "code",
   "execution_count": null,
   "id": "f3844621",
   "metadata": {},
   "outputs": [],
   "source": []
  }
 ],
 "metadata": {
  "kernelspec": {
   "display_name": "Python 3 (ipykernel)",
   "language": "python",
   "name": "python3"
  },
  "language_info": {
   "codemirror_mode": {
    "name": "ipython",
    "version": 3
   },
   "file_extension": ".py",
   "mimetype": "text/x-python",
   "name": "python",
   "nbconvert_exporter": "python",
   "pygments_lexer": "ipython3",
   "version": "3.9.13"
  }
 },
 "nbformat": 4,
 "nbformat_minor": 5
}
